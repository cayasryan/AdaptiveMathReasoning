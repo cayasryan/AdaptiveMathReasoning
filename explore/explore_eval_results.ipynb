{
 "cells": [
  {
   "cell_type": "code",
   "execution_count": null,
   "id": "5082e31f",
   "metadata": {},
   "outputs": [],
   "source": [
    "import pandas as pd\n",
    "\n",
    "# Read parquet file\n",
    "math_val = pd.read_parquet(\"../eval_results/Responses_OLD_L1-Qwen-1.5B-Max_val.parquet\")\n",
    "math_val"
   ]
  }
 ],
 "metadata": {
  "kernelspec": {
   "display_name": "rl4math",
   "language": "python",
   "name": "python3"
  },
  "language_info": {
   "name": "python",
   "version": "3.12.9"
  }
 },
 "nbformat": 4,
 "nbformat_minor": 5
}
